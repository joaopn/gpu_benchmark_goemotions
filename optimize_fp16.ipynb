{
 "cells": [
  {
   "cell_type": "code",
   "execution_count": null,
   "metadata": {},
   "outputs": [],
   "source": [
    "from optimum.onnxruntime import ORTOptimizer, ORTModelForSequenceClassification, AutoOptimizationConfig\n",
    "from optimum.onnxruntime import ORTModelForSequenceClassification"
   ]
  },
  {
   "cell_type": "code",
   "execution_count": null,
   "metadata": {},
   "outputs": [],
   "source": [
    "model_id_onnx = \"SamLowe/roberta-base-go_emotions-onnx\"\n",
    "file_name = \"onnx/model.onnx\"\n",
    "model = ORTModelForSequenceClassification.from_pretrained(model_id_onnx, file_name=file_name, provider=\"CUDAExecutionProvider\", provider_options={'device_id': 0})"
   ]
  },
  {
   "cell_type": "code",
   "execution_count": null,
   "metadata": {},
   "outputs": [],
   "source": [
    "optimizer = ORTOptimizer.from_pretrained(model)\n",
    "optimization_config = AutoOptimizationConfig.O4()\n",
    "optimizer.optimize(save_dir='model.onnx', optimization_config=optimization_config)\n"
   ]
  }
 ],
 "metadata": {
  "kernelspec": {
   "display_name": "bench",
   "language": "python",
   "name": "python3"
  },
  "language_info": {
   "codemirror_mode": {
    "name": "ipython",
    "version": 3
   },
   "file_extension": ".py",
   "mimetype": "text/x-python",
   "name": "python",
   "nbconvert_exporter": "python",
   "pygments_lexer": "ipython3",
   "version": "3.12.3"
  }
 },
 "nbformat": 4,
 "nbformat_minor": 2
}
